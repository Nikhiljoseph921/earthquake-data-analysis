{
 "cells": [
  {
   "cell_type": "code",
   "execution_count": 1,
   "metadata": {},
   "outputs": [],
   "source": [
    "import pandas as pd\n",
    "import plotly.express as px"
   ]
  },
  {
   "cell_type": "code",
   "execution_count": 2,
   "metadata": {},
   "outputs": [],
   "source": [
    "data = pd.read_csv('quakes-cleaned.csv')"
   ]
  },
  {
   "cell_type": "markdown",
   "metadata": {},
   "source": [
    "## 1.Most seismic activity in  a Territory(Geographical area)\n"
   ]
  },
  {
   "cell_type": "markdown",
   "metadata": {},
   "source": [
    "This code determines the top 10 territories with the highest seismic activity counts using the value_counts() method on the Territory column and converts the result into a DataFrame. The DataFrame, renamed with columns Territory and Count, is printed to display the top territories and their respective counts."
   ]
  },
  {
   "cell_type": "code",
   "execution_count": 3,
   "metadata": {},
   "outputs": [
    {
     "name": "stdout",
     "output_type": "stream",
     "text": [
      "     Territory  Count\n",
      "0           CA   3259\n",
      "1       Alaska   2293\n",
      "2       Hawaii    675\n",
      "3       Nevada    521\n",
      "4        Texas    370\n",
      "5         Utah    330\n",
      "6      Montana    325\n",
      "7     Oklahoma    312\n",
      "8   Washington    251\n",
      "9  Puerto Rico    206\n"
     ]
    }
   ],
   "source": [
    "seismic_activity_counts = data['Territory'].value_counts().head(10)\n",
    "seismic_activity_counts_df = seismic_activity_counts.reset_index()\n",
    "seismic_activity_counts_df.columns = ['Territory', 'Count']\n",
    "print(seismic_activity_counts_df)"
   ]
  },
  {
   "cell_type": "markdown",
   "metadata": {},
   "source": [
    "## 2.Top 5 contributors to each earthquake measurements"
   ]
  },
  {
   "cell_type": "markdown",
   "metadata": {},
   "source": [
    "\n",
    "This code identifies the top 5 contributors to earthquake measurements by counting the occurrences of each unique value in the net column using the value_counts() method. The result is then printed to display the top contributors to earthquake measurements"
   ]
  },
  {
   "cell_type": "code",
   "execution_count": 4,
   "metadata": {},
   "outputs": [
    {
     "name": "stdout",
     "output_type": "stream",
     "text": [
      "Top contributors to earthquake measurements:\n",
      "net\n",
      "nc    1990\n",
      "ci    1299\n",
      "ak    1277\n",
      "av     917\n",
      "us     816\n",
      "Name: count, dtype: int64\n"
     ]
    }
   ],
   "source": [
    "top_contributors = data['net'].value_counts().head(5)\n",
    "print(\"Top contributors to earthquake measurements:\")\n",
    "print(top_contributors)"
   ]
  },
  {
   "cell_type": "markdown",
   "metadata": {},
   "source": [
    "## 3.Areas with highest measurement of error in depth"
   ]
  },
  {
   "cell_type": "markdown",
   "metadata": {},
   "source": [
    "This code calculates the average depth error for each territory by grouping the data by the Territory column and computing the mean of depthError. The resulting DataFrame is then sorted in descending order by the depthError column and printed to display the territories with the highest average depth errors.\n",
    "\n",
    "\n",
    "\n",
    "\n",
    "\n",
    "\n"
   ]
  },
  {
   "cell_type": "code",
   "execution_count": 5,
   "metadata": {},
   "outputs": [
    {
     "name": "stdout",
     "output_type": "stream",
     "text": [
      "                Territory  depthError\n",
      "12  California Earthquake   31.610000\n",
      "13                 Canada   17.279360\n",
      "87    U.S. Virgin Islands   13.303077\n",
      "29                  Haiti   11.346000\n",
      "65                 Oregon   10.997769\n",
      "..                    ...         ...\n",
      "89                   Utah    1.093152\n",
      "59             New Mexico    1.042585\n",
      "30                 Hawaii    1.042237\n",
      "82              Tennessee    0.620000\n",
      "51               Missouri    0.544000\n",
      "\n",
      "[97 rows x 2 columns]\n"
     ]
    }
   ],
   "source": [
    "depth_error_areas = data.groupby('Territory')['depthError'].mean().reset_index()\n",
    "depth_error_areas_sorted = depth_error_areas.sort_values(by='depthError', ascending=False)\n",
    "print(depth_error_areas_sorted)"
   ]
  },
  {
   "cell_type": "markdown",
   "metadata": {},
   "source": [
    "## 3.Areas with highest measurement of error in depth"
   ]
  },
  {
   "cell_type": "markdown",
   "metadata": {},
   "source": [
    "This code groups the data by the Territory column and calculates the mean of depthError for each territory. It then sorts the resulting grouped data by depthError in descending order. Finally, the sorted data is printed to the console."
   ]
  },
  {
   "cell_type": "code",
   "execution_count": 6,
   "metadata": {},
   "outputs": [
    {
     "name": "stdout",
     "output_type": "stream",
     "text": [
      "                Territory  depthError\n",
      "12  California Earthquake   31.610000\n",
      "13                 Canada   17.279360\n",
      "87    U.S. Virgin Islands   13.303077\n",
      "29                  Haiti   11.346000\n",
      "65                 Oregon   10.997769\n",
      "..                    ...         ...\n",
      "89                   Utah    1.093152\n",
      "59             New Mexico    1.042585\n",
      "30                 Hawaii    1.042237\n",
      "82              Tennessee    0.620000\n",
      "51               Missouri    0.544000\n",
      "\n",
      "[97 rows x 2 columns]\n"
     ]
    }
   ],
   "source": [
    "depth_error_areas = data.groupby('Territory')['depthError'].mean().reset_index()\n",
    "depth_error_areas_sorted = depth_error_areas.sort_values(by='depthError', ascending=False)\n",
    "print(depth_error_areas_sorted)"
   ]
  },
  {
   "cell_type": "markdown",
   "metadata": {},
   "source": [
    "## 4.Most frequent seismic activity"
   ]
  },
  {
   "cell_type": "markdown",
   "metadata": {},
   "source": [
    "It counts the occurrences of each unique value in the type column using value_counts() and resets the index. It then renames the columns to Type for the seismic activity type and Count for the count of each type. Finally, it prints the first few rows of the resulting data using head().\n",
    "\n",
    "\n",
    "\n",
    "\n",
    "\n",
    "\n"
   ]
  },
  {
   "cell_type": "code",
   "execution_count": 7,
   "metadata": {},
   "outputs": [
    {
     "name": "stdout",
     "output_type": "stream",
     "text": [
      "           Type  Count\n",
      "0    earthquake   9594\n",
      "1  quarry blast    118\n",
      "2     explosion     48\n",
      "3    sonic boom      2\n",
      "4   other event      1\n"
     ]
    }
   ],
   "source": [
    "most_seismic_activity_types = data['type'].value_counts().reset_index()\n",
    "most_seismic_activity_types.columns = ['Type', 'Count']\n",
    "print(most_seismic_activity_types.head())"
   ]
  },
  {
   "cell_type": "markdown",
   "metadata": {},
   "source": []
  },
  {
   "cell_type": "markdown",
   "metadata": {},
   "source": [
    "## 5.Top five regions with highest no of explotion"
   ]
  },
  {
   "cell_type": "markdown",
   "metadata": {},
   "source": [
    "It filters the data to include only rows where the type is 'explosion' and counts the occurrences of each territory, retrieving the top 5 territories with the most explosions."
   ]
  },
  {
   "cell_type": "code",
   "execution_count": 8,
   "metadata": {},
   "outputs": [
    {
     "data": {
      "text/html": [
       "<div>\n",
       "<style scoped>\n",
       "    .dataframe tbody tr th:only-of-type {\n",
       "        vertical-align: middle;\n",
       "    }\n",
       "\n",
       "    .dataframe tbody tr th {\n",
       "        vertical-align: top;\n",
       "    }\n",
       "\n",
       "    .dataframe thead th {\n",
       "        text-align: right;\n",
       "    }\n",
       "</style>\n",
       "<table border=\"1\" class=\"dataframe\">\n",
       "  <thead>\n",
       "    <tr style=\"text-align: right;\">\n",
       "      <th></th>\n",
       "      <th>Territory</th>\n",
       "      <th>Count</th>\n",
       "    </tr>\n",
       "  </thead>\n",
       "  <tbody>\n",
       "    <tr>\n",
       "      <th>0</th>\n",
       "      <td>Washington</td>\n",
       "      <td>19</td>\n",
       "    </tr>\n",
       "    <tr>\n",
       "      <th>1</th>\n",
       "      <td>Oregon</td>\n",
       "      <td>12</td>\n",
       "    </tr>\n",
       "    <tr>\n",
       "      <th>2</th>\n",
       "      <td>Canada</td>\n",
       "      <td>11</td>\n",
       "    </tr>\n",
       "    <tr>\n",
       "      <th>3</th>\n",
       "      <td>Nevada</td>\n",
       "      <td>4</td>\n",
       "    </tr>\n",
       "    <tr>\n",
       "      <th>4</th>\n",
       "      <td>Idaho</td>\n",
       "      <td>1</td>\n",
       "    </tr>\n",
       "  </tbody>\n",
       "</table>\n",
       "</div>"
      ],
      "text/plain": [
       "    Territory  Count\n",
       "0  Washington     19\n",
       "1      Oregon     12\n",
       "2      Canada     11\n",
       "3      Nevada      4\n",
       "4       Idaho      1"
      ]
     },
     "execution_count": 8,
     "metadata": {},
     "output_type": "execute_result"
    }
   ],
   "source": [
    "explosions_data = data[data['type'].str.lower() == 'explosion']\n",
    "top_explosion_territories = explosions_data['Territory'].value_counts().head(5).reset_index()\n",
    "top_explosion_territories.columns = ['Territory', 'Count']\n",
    "top_explosion_territories"
   ]
  },
  {
   "cell_type": "code",
   "execution_count": null,
   "metadata": {},
   "outputs": [],
   "source": []
  }
 ],
 "metadata": {
  "kernelspec": {
   "display_name": "Python 3",
   "language": "python",
   "name": "python3"
  },
  "language_info": {
   "codemirror_mode": {
    "name": "ipython",
    "version": 3
   },
   "file_extension": ".py",
   "mimetype": "text/x-python",
   "name": "python",
   "nbconvert_exporter": "python",
   "pygments_lexer": "ipython3",
   "version": "3.12.6"
  }
 },
 "nbformat": 4,
 "nbformat_minor": 2
}
